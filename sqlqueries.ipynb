{
 "metadata": {
  "language_info": {
   "codemirror_mode": {
    "name": "ipython",
    "version": 3
   },
   "file_extension": ".py",
   "mimetype": "text/x-python",
   "name": "python",
   "nbconvert_exporter": "python",
   "pygments_lexer": "ipython3",
   "version": "3.8.0"
  },
  "orig_nbformat": 2,
  "kernelspec": {
   "name": "python380jvsc74a57bd0fe5b29c2a7d8c54a992d92c0bd4ce99c1fe3268bd935927243dc8a5909d8bc5e",
   "display_name": "Python 3.8.0 64-bit ('.venv': venv)"
  },
  "metadata": {
   "interpreter": {
    "hash": "fe5b29c2a7d8c54a992d92c0bd4ce99c1fe3268bd935927243dc8a5909d8bc5e"
   }
  }
 },
 "nbformat": 4,
 "nbformat_minor": 2,
 "cells": [
  {
   "source": [
    "#Connection to MySQL\n",
    "\n",
    "import mysql.connector \n",
    "\n",
    "try:\n",
    "    db = mysql.connector.connect (\n",
    "\n",
    "        host = \"Darrens-Macbook-Air.local\",\n",
    "        user = \"root\",\n",
    "        password = \"Darren123\",\n",
    "        database = \"DS\"\n",
    "    )\n",
    "\n",
    "    cursor = db.cursor()\n",
    "\n",
    "    print(\"Connection Successful!\")\n",
    "\n",
    "except:\n",
    "    print(\"Unable to connect :(\")\n",
    "    "
   ],
   "cell_type": "code",
   "metadata": {},
   "execution_count": 3,
   "outputs": [
    {
     "output_type": "stream",
     "name": "stdout",
     "text": [
      "Connection Successful!\n"
     ]
    }
   ]
  },
  {
   "cell_type": "code",
   "execution_count": 4,
   "metadata": {},
   "outputs": [
    {
     "output_type": "stream",
     "name": "stdout",
     "text": [
      "airports ->  (20,)\ncompetitors ->  (12,)\nlong_range_aircraft ->  (16,)\nshort_to_medium_range_aircraft ->  (22,)\n"
     ]
    }
   ],
   "source": [
    "#Return counts\n",
    "\n",
    "count1 = \"SELECT COUNT(*) FROM airports;\"\n",
    "\n",
    "cursor.execute(count1)\n",
    "result = cursor.fetchall()\n",
    "for x in result:\n",
    "    print(\"airports -> \", x)\n",
    "\n",
    "count2 = \"SELECT COUNT(*) FROM competitors;\"\n",
    "\n",
    "cursor.execute(count2)\n",
    "result = cursor.fetchall()\n",
    "for x in result:\n",
    "    print(\"competitors -> \", x)\n",
    "\n",
    "count3 = \"SELECT COUNT(*) FROM long_range_aircraft;\"\n",
    "\n",
    "cursor.execute(count3)\n",
    "result = cursor.fetchall()\n",
    "for x in result:\n",
    "    print(\"long_range_aircraft -> \", x)\n",
    "\n",
    "count4 = \"SELECT COUNT(*) FROM short_to_medium_range_aircraft;\"\n",
    "\n",
    "cursor.execute(count4)\n",
    "result = cursor.fetchall()\n",
    "for x in result:\n",
    "    print(\"short_to_medium_range_aircraft -> \", x)\n",
    "    "
   ]
  },
  {
   "cell_type": "code",
   "execution_count": 5,
   "metadata": {},
   "outputs": [
    {
     "output_type": "stream",
     "name": "stdout",
     "text": [
      "('Boeing', '737 MAX 10', 230, 134.9, 'US')\n('Airbus', 'A321neo', 232, 129.5, 'EU')\n('Boeing', '737 MAX 9', 220, 128.9, 'US')\n('Boeing', '737 MAX 8', 200, 124.6, 'US')\n('Airbus', 'A321', 230, 118.3, 'EU')\n('Boeing', '737-900ER', 210, 112.6, 'US')\n('Airbus', 'A320neo', 195, 110.6, 'EU')\n('Airbus', 'A320', 190, 101.0, 'EU')\n"
     ]
    }
   ],
   "source": [
    "#For short range aircraft: narrowing down potential candidates by certain criteria that will best suit the airline\n",
    "\n",
    "sql1 = \"SELECT Manufacturer, Model, Seating, Price, Country FROM short_to_medium_range_aircraft WHERE flyrange > 2850 AND Seating > 185 ORDER BY Price DESC;\"\n",
    "\n",
    "cursor.execute(sql1)\n",
    "result = cursor.fetchall()\n",
    "for x in result:\n",
    "    print(x)\n",
    "    "
   ]
  },
  {
   "cell_type": "code",
   "execution_count": 6,
   "metadata": {},
   "outputs": [
    {
     "output_type": "stream",
     "name": "stdout",
     "text": [
      "('Airbus', 'A380', 853, 445.6, 'EU')\n('Boeing', '777-9X', 426, 442.2, 'US')\n('Boeing', '747-8i', 605, 418.4, 'US')\n('Boeing', '777-8X', 384, 410.2, 'US')\n('Boeing', '777-300ER', 550, 375.5, 'US')\n('Airbus', 'A350-1000', 480, 366.5, 'EU')\n('Boeing', '777-200LR', 440, 349.6, 'US')\n('Airbus', 'A350-900', 440, 317.4, 'EU')\n('Boeing', '787-9', 406, 292.5, 'US')\n('Boeing', '787-8', 359, 248.3, 'US')\n"
     ]
    }
   ],
   "source": [
    "#For long-range-aircraft: narrowing down potential candidates by certain criteria that will best suit the airline\n",
    "\n",
    "sql2 = \"SELECT Manufacturer, Model, Seating, Price, Country FROM long_range_aircraft WHERE flyrange > 7200 AND Seating > 300 ORDER BY PRICE DESC;\"\n",
    "\n",
    "cursor.execute(sql2)\n",
    "result = cursor.fetchall()\n",
    "for x in result:\n",
    "    print(x)\n",
    "    "
   ]
  },
  {
   "cell_type": "code",
   "execution_count": 7,
   "metadata": {},
   "outputs": [
    {
     "output_type": "stream",
     "name": "stdout",
     "text": [
      "('Airbus', 'A320neo', 3857, 110.6, 3500, 195, 174200, 6400, 39800, 117, 'EU')\n",
      "('Airbus', 'A321neo', 3437, 129.5, 4000, 232, 213800, 6522, 39800, 117, 'EU')\n",
      "('Boeing', '737 MAX 8', 2135, 124.6, 3550, 200, 181200, 8300, 41000, 117, 'US')\n",
      "('Boeing', '737 MAX 10', 483, 134.9, 3300, 230, 197900, 8700, 41000, 117, 'US')\n",
      "('Boeing', '737 MAX 9', 234, 128.9, 3550, 220, 194700, 8500, 41000, 117, 'US')\n",
      "\n",
      "('Airbus', 'A320neo', 110.6)\n",
      "('Airbus', 'A321neo', 129.5)\n",
      "('Boeing', '737 MAX 8', 124.6)\n",
      "('Boeing', '737 MAX 9', 128.9)\n"
     ]
    }
   ],
   "source": [
    "#For short-rangen aircraft: from the short-listed candidates, examine and narrow down even further. The airline's short-range aircraft will be chosen from the result\n",
    "\n",
    "sql3 = \"SELECT Manufacturer, Model, Ordered, Price, flyrange, Seating, MTOW, takeoffdis, Ceiling, Wingspan, Country FROM short_to_medium_range_aircraft WHERE MTOW > (SELECT AVG(MTOW) FROM short_to_medium_range_aircraft) AND Age < 10 AND flyrange > 2850 AND Seating > 185 ORDER BY Ordered DESC;\"\n",
    "\n",
    "#The finalists, two from Airbus and two from Boeing. The airline will make a choice from the results.\n",
    "\n",
    "sql4 = \"SELECT Manufacturer, Model, Price FROM short_to_medium_range_aircraft WHERE MTOW > (SELECT AVG(MTOW) FROM short_to_medium_range_aircraft) AND Age < 10 AND flyrange > 2850 AND Seating > 185 ORDER BY Manufacturer LIMIT 4;\"\n",
    "\n",
    "cursor.execute(sql3)\n",
    "result = cursor.fetchall()\n",
    "for x in result:\n",
    "    print(x)\n",
    "\n",
    "print(\"\")\n",
    "\n",
    "cursor.execute(sql4)\n",
    "result = cursor.fetchall()\n",
    "for x in result:\n",
    "    print(x)\n"
   ]
  },
  {
   "cell_type": "code",
   "execution_count": 8,
   "metadata": {},
   "outputs": [
    {
     "output_type": "stream",
     "name": "stdout",
     "text": [
      "('Boeing', '777-9X', 312, 442.2, 7285, 426, 775000, 43100, 235, 'US')\n('Boeing', '747-8i', 155, 418.4, 7730, 605, 987000, 43100, 224, 'US')\n('Boeing', '777-8X', 8, 410.2, 8730, 384, 775000, 43100, 235, 'US')\n('Airbus', 'A350-1000', 168, 366.5, 8700, 480, 696661, 41450, 212, 'EU')\n('Airbus', 'A350-900', 745, 317.4, 8100, 440, 617295, 43100, 212, 'EU')\n\n('Airbus', 'A350-900', 317.4)\n('Airbus', 'A350-1000', 366.5)\n('Boeing', '747-8i', 418.4)\n('Boeing', '777-9X', 442.2)\n"
     ]
    }
   ],
   "source": [
    "#For long-range aircraft: from the short-listed candidates, examine and narrow down even further. The airline's long-range aircraft will be chosen from the result\n",
    "\n",
    "sql5 = \"SELECT Manufacturer, Model, Ordered, Price, flyrange, Seating, MTOW, Ceiling, Wingspan, Country FROM long_range_aircraft WHERE flyrange > 7250 AND Seating > 350 AND Age <= 15 AND MTOW > (SELECT MAX(MTOW) - AVG(MTOW) FROM long_range_aircraft) ORDER BY Price DESC;\"\n",
    "\n",
    "#The finalists, two from Airbus and two from Boeing. The airline will make a choice from the results.\n",
    "\n",
    "sql6 = \"SELECT Manufacturer, Model, Price FROM long_range_aircraft WHERE flyrange > 7250 AND Seating > 350 AND Age <= 15 AND MTOW > (SELECT MAX(MTOW) - AVG(MTOW) FROM long_range_aircraft) AND Ordered > 100 ORDER BY Manufacturer LIMIT 4;\"\n",
    "\n",
    "\n",
    "cursor.execute(sql5)\n",
    "result = cursor.fetchall()\n",
    "for x in result:\n",
    "    print(x)\n",
    "\n",
    "print(\"\")\n",
    "\n",
    "cursor.execute(sql6)\n",
    "result = cursor.fetchall()\n",
    "for x in result:\n",
    "    print(x)\n",
    "    "
   ]
  },
  {
   "cell_type": "code",
   "execution_count": 9,
   "metadata": {},
   "outputs": [
    {
     "output_type": "stream",
     "name": "stdout",
     "text": [
      "For short-range aircraft:  ['A320neo', 'A321neo', '737 MAX 8', '737 MAX 9']\nFor long-range aircraft:  ['A350-900', 'A350-1000', '747-8i', '777-9X']\n"
     ]
    }
   ],
   "source": [
    "#The airline has the following choices:\n",
    "\n",
    "short_range = ['A320neo', 'A321neo', '737 MAX 8', '737 MAX 9']\n",
    "long_range = ['A350-900', 'A350-1000', '747-8i', '777-9X']\n",
    "\n",
    "print(\"For short-range aircraft: \", short_range)\n",
    "print(\"For long-range aircraft: \", long_range)\n"
   ]
  },
  {
   "cell_type": "code",
   "execution_count": 10,
   "metadata": {},
   "outputs": [
    {
     "output_type": "stream",
     "name": "stdout",
     "text": [
      "('Hartsfield-Jackson International Airport ', 'KATL', 'GA', 'Atlanta')\n('Los Angeles International Airport', 'KLAX', 'CA', 'Los Angeles')\n(\"O'Hare International Airport\", 'KORD', 'IL', 'Chicago')\n('Denver International Airport', 'KDEN', 'CO', 'Denver')\n\n('Hartsfield-Jackson International Airport ', 'Atlanta', 'GA', 'KATL', 'Delta Airlines', 750)\n(\"O'Hare International Airport\", 'Chicago', 'IL', 'KORD', 'United Airlines', 827)\n('Dallas/Fort Worth International Airport', 'Dallas', 'TX', 'KDFW', 'American Airlines', 884)\n('Denver International Airport', 'Denver', 'CO', 'KDEN', 'Frontier Airlines', 104)\n('John F.Kennedy International Airport', 'New York City', 'NY', 'KJFK', 'JetBlue Airways', 270)\n('Seattle-Tacoma International Airport', 'Seattle', 'WA', 'KSEA', 'Alaska Airlines', 319)\n('McCarran International Airport', 'Las Vegas', 'NV', 'KLAS', 'Allegiant Air', 107)\n\n('Hartsfield-Jackson International Airport ', 'KATL', 'GA', 'Atlanta', 'Delta Airlines')\n(\"O'Hare International Airport\", 'KORD', 'IL', 'Chicago', 'United Airlines')\n('Denver International Airport', 'KDEN', 'CO', 'Denver', 'Frontier Airlines')\n\nFor airport: {'Los Angeles International Airport (KLAX), Los Angeles, California, USA'}\n"
     ]
    }
   ],
   "source": [
    "#Now the airline needs a hub/base to operate out of, taking into consideration competitors and their current hubs/bases\n",
    "\n",
    "#Let's narrow down the airports down to runways available and passenger traffic\n",
    "\n",
    "sql7 = \"SELECT aptname, ICAO, state, city FROM airports WHERE yr2019 > (SELECT AVG(yr2019) FROM airports) AND yr2018 > (SELECT AVG(yr2018) FROM airports) AND yr2017 > (SELECT AVG(yr2017) FROM airports) AND runways >= 2 ORDER BY yr2019 DESC\"\n",
    "\n",
    "cursor.execute(sql7)\n",
    "result = cursor.fetchall()\n",
    "for x in result:\n",
    "    print(x)\n",
    "\n",
    "print(\"\")\n",
    "\n",
    "#Lets see where the airline's competitors are based, we are targeting competitors with fleet sizes of greater than 100 planes\n",
    "\n",
    "sql8 = \"SELECT a.aptname, a.city, a.state, a.ICAO, c.airline, c.fleetsize FROM airports a, competitors c WHERE a.ICAO = c.Hub AND fleetsize > 100 ORDER BY yr2019 DESC;\"\n",
    "\n",
    "cursor.execute(sql8)\n",
    "result = cursor.fetchall()\n",
    "for x in result:\n",
    "    print(x)\n",
    "\n",
    "print(\"\")\n",
    "\n",
    "#Examining further to see if any competitors are based in the airports given in the previous query\n",
    "sql9 = \"SELECT a.aptname, a.ICAO, a.state, a.city, c.airline FROM airports a, competitors c WHERE a.ICAO = c.Hub AND yr2019 > (SELECT AVG(yr2019) FROM airports) AND yr2018 > (SELECT AVG(yr2018) FROM airports) AND yr2017 > (SELECT AVG(yr2017) FROM airports) ORDER BY yr2019 DESC;\"\n",
    "\n",
    "cursor.execute(sql9)\n",
    "result = cursor.fetchall()\n",
    "for x in result:\n",
    "    print(x)\n",
    "\n",
    "#Upon inspection, the airport that is not currently a hub for airlines with fleetsizes greater than 100 planes (the list in sql7) is KLAX - Los Angeles International Airport (LAX). Based on competitors' airport hubs, the airline's main competitors are Delta, United and Frontier Airlines.\n",
    "\n",
    "print(\"\")\n",
    "\n",
    "#Based on airport numbers, we will select KLAX - Los Angeles International Airport (LAX) as the airline's hub/base.\n",
    "line = \"For airport: {}\"\n",
    "airport = {\"Los Angeles International Airport (KLAX), Los Angeles, California, USA\"}\n",
    "print(line.format(airport))\n"
   ]
  },
  {
   "cell_type": "code",
   "execution_count": 11,
   "metadata": {},
   "outputs": [
    {
     "output_type": "stream",
     "name": "stdout",
     "text": [
      "('American Airlines', 'Dallas/Fort Worth International Airport', 'Dallas', 'TX', 884)\n('Alaska Airlines', 'Seattle-Tacoma International Airport', 'Seattle', 'WA', 319)\n('JetBlue Airways', 'John F.Kennedy International Airport', 'New York City', 'NY', 270)\n\nFor competitors: \n\n>  Alaska Airlines - KSEA\n\n>  American Airlines - KDFW\n\n>  Delta Airlines - KATL\n\n>  Frontier Airlines - KDEN\n\n>  JetBlue Airways - KJFK\n\n>  United Airlines - KORD\n\n"
     ]
    }
   ],
   "source": [
    "#After determining Delta, United and Frontier Airline as the airline's main competitors based purely on their hubs/bases, lets see if there are any other competitors worth adding to the list -> final main competitors for the airline\n",
    "\n",
    "sql10 = \"SELECT c.airline, a.aptname, a.city, a.state, c.fleetsize FROM competitors c, airports a WHERE c.Hub = a.ICAO AND fleetsize > 200 AND airline NOT IN ('Delta Airlines', 'United Airlines', 'Frontier Airlines') ORDER BY fleetsize DESC;\"\n",
    "\n",
    "cursor.execute(sql10)\n",
    "result = cursor.fetchall()\n",
    "for x in result:\n",
    "    print(x)\n",
    "\n",
    "print(\"\")\n",
    "\n",
    "#There are a couple of big airlines that have been previously omitted. Now the airline's competitors in the market:\n",
    "\n",
    "competitors = [\"Delta Airlines - KATL\", \"United Airlines - KORD\", \"Frontier Airlines - KDEN\", \"American Airlines - KDFW\", \"Alaska Airlines - KSEA\", \"JetBlue Airways - KJFK\"]\n",
    "\n",
    "competitors.sort(reverse = False)\n",
    "print(\"For competitors: \")\n",
    "print(\"\")\n",
    "for i in competitors:\n",
    "    print(\"> \",i)\n",
    "    print(\"\")\n",
    "    "
   ]
  },
  {
   "cell_type": "code",
   "execution_count": 12,
   "metadata": {},
   "outputs": [
    {
     "output_type": "stream",
     "name": "stdout",
     "text": [
      "Connection successfully disconnected\n"
     ]
    }
   ],
   "source": [
    "#Close connection to MySQL\n",
    "\n",
    "try:\n",
    "    db.close()\n",
    "\n",
    "    print(\"Connection successfully disconnected\")\n",
    "\n",
    "except:\n",
    "    print(\"Connection still active\")\n",
    "    "
   ]
  }
 ]
}